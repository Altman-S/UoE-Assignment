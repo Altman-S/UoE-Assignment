{
 "cells": [
  {
   "cell_type": "markdown",
   "id": "74e87676",
   "metadata": {},
   "source": [
    "# Import Package"
   ]
  },
  {
   "cell_type": "code",
   "execution_count": 3,
   "id": "c1d80ad0",
   "metadata": {},
   "outputs": [],
   "source": [
    "##########################################################\n",
    "#  Python script template for Question 1 (IAML Level 11)\n",
    "#  Note that\n",
    "#  - You should not change the name of this file, 'iaml212cw2_q1.py', which is the file name you should use when you submit your code for this question.\n",
    "#  - You should write code for the functions defined below. Do not change their names.\n",
    "#  - You can define function arguments (parameters) and returns (attributes) if necessary.\n",
    "#  - In case you define additional functions, do not define them here, but put them in a separate Python module file, \"iaml212cw2_my_helpers.py\", and import it in this script.\n",
    "#  - For those questions requiring you to show results in tables, your code does not need to present them in tables - just showing them with print() is fine.\n",
    "#  - You do not need to include this header in your submission.\n",
    "##########################################################\n",
    "\n",
    "#--- Code for loading modules and the data set and pre-processing --->\n",
    "# NB: You can edit the following and add code (e.g. code for loading sklearn) if necessary.\n",
    "\n",
    "import numpy as np\n",
    "import scipy\n",
    "import matplotlib.pyplot as plt\n",
    "import seaborn as sns\n",
    "from iaml212cw2_my_helpers import *"
   ]
  },
  {
   "cell_type": "markdown",
   "id": "6f50eb4a",
   "metadata": {},
   "source": [
    "# Import Dataset"
   ]
  },
  {
   "cell_type": "code",
   "execution_count": 5,
   "id": "2a578aca",
   "metadata": {},
   "outputs": [
    {
     "name": "stdout",
     "output_type": "stream",
     "text": [
      "X: (800, 9) Y: (800,)\n"
     ]
    }
   ],
   "source": [
    "# print_versions()\n",
    "X, Y = load_Q1_dataset()\n",
    "print('X:', X.shape, 'Y:', Y.shape)\n",
    "Xtrn = X[100:, :]; Ytrn = Y[100:]  # train dataset\n",
    "Xtst = X[0:100, :]; Ytst = Y[0:100]  # test dataset"
   ]
  },
  {
   "cell_type": "code",
   "execution_count": 37,
   "id": "8a4feadf",
   "metadata": {},
   "outputs": [],
   "source": [
    "# Ytrn"
   ]
  },
  {
   "cell_type": "markdown",
   "id": "6405f171",
   "metadata": {},
   "source": [
    "# Question 1"
   ]
  },
  {
   "cell_type": "code",
   "execution_count": 36,
   "id": "9e4f3dc8",
   "metadata": {},
   "outputs": [
    {
     "data": {
      "image/png": "[encoded data removed]",
      "text/plain": [
       "<Figure size 432x288 with 9 Axes>"
      ]
     },
     "metadata": {
      "needs_background": "light"
     },
     "output_type": "display_data"
    }
   ],
   "source": [
    "# Q1.1\n",
    "def iaml212cw2_q1_1():\n",
    "    fig, axes = plt.subplots(nrows=3, ncols=3)\n",
    "   \n",
    "    for i in range(9):\n",
    "        Xa = []\n",
    "        Xb = []\n",
    "        for j in range(len(Ytrn)):\n",
    "            if (Ytrn[j] == 0):\n",
    "                Xa.extend([Xtrn[j][i]])\n",
    "            else:\n",
    "                Xb.extend([Xtrn[j][i]])\n",
    "    \n",
    "        plt.subplot(3, 3, i+1)\n",
    "        plt.title('A' + str(i))\n",
    "        plt.hist([Xa, Xb], bins=15)\n",
    "        plt.grid()\n",
    "   \n",
    "        \n",
    "iaml212cw2_q1_1()   # comment this out when you run the function"
   ]
  },
  {
   "cell_type": "code",
   "execution_count": null,
   "id": "93e7e419",
   "metadata": {},
   "outputs": [],
   "source": [
    "# Q1.2\n",
    "def iaml212cw2_q1_2():\n",
    "#\n",
    "# iaml212cw2_q1_2()   # comment this out when you run the function"
   ]
  },
  {
   "cell_type": "code",
   "execution_count": null,
   "id": "ec30b290",
   "metadata": {},
   "outputs": [],
   "source": [
    "# Q1.3\n",
    "def iaml212cw2_q1_3():\n",
    "#\n",
    "# iaml212cw2_q1_3()   # comment this out when you run the function"
   ]
  },
  {
   "cell_type": "code",
   "execution_count": null,
   "id": "0b33c7f4",
   "metadata": {},
   "outputs": [],
   "source": [
    "# Q1.4\n",
    "def iaml212cw2_q1_4():\n",
    "#\n",
    "# iaml212cw2_q1_4()   # comment this out when you run the function"
   ]
  },
  {
   "cell_type": "code",
   "execution_count": null,
   "id": "3c670c59",
   "metadata": {},
   "outputs": [],
   "source": [
    "# Q1.5\n",
    "def iaml212cw2_q1_5():\n",
    "#\n",
    "# iaml212cw2_q1_5()   # comment this out when you run the function"
   ]
  },
  {
   "cell_type": "code",
   "execution_count": null,
   "id": "e08001b2",
   "metadata": {},
   "outputs": [],
   "source": [
    "# Q1.6\n",
    "def iaml212cw2_q1_6():\n",
    "#\n",
    "# iaml212cw2_q1_6()   # comment this out when you run the function"
   ]
  },
  {
   "cell_type": "code",
   "execution_count": null,
   "id": "f40be985",
   "metadata": {},
   "outputs": [],
   "source": [
    "# Q1.7\n",
    "def iaml212cw2_q1_7():\n",
    "#\n",
    "# iaml212cw2_q1_7()   # comment this out when you run the function"
   ]
  },
  {
   "cell_type": "code",
   "execution_count": null,
   "id": "1d9f2e28",
   "metadata": {},
   "outputs": [],
   "source": [
    "# Q1.8\n",
    "def iaml212cw2_q1_8():\n",
    "#\n",
    "# iaml212cw2_q1_8()   # comment this out when you run the function"
   ]
  },
  {
   "cell_type": "code",
   "execution_count": null,
   "id": "5253860b",
   "metadata": {},
   "outputs": [],
   "source": [
    "# Q1.9\n",
    "def iaml212cw2_q1_9():\n",
    "#\n",
    "# iaml212cw2_q1_9()   # comment this out when you run the function"
   ]
  },
  {
   "cell_type": "code",
   "execution_count": null,
   "id": "a9369b87",
   "metadata": {},
   "outputs": [],
   "source": [
    "# Q1.10\n",
    "def iaml212cw2_q1_10():\n",
    "#\n",
    "# iaml212cw2_q1_10()   # comment this out when you run the function"
   ]
  },
  {
   "cell_type": "code",
   "execution_count": null,
   "id": "8674b3c9",
   "metadata": {},
   "outputs": [],
   "source": [
    "# Q1.11\n",
    "def iaml212cw2_q1_11():\n",
    "#\n",
    "# iaml212cw2_q1_11()   # comment this out when you run the function"
   ]
  }
 ],
 "metadata": {
  "kernelspec": {
   "display_name": "Python [conda env:py3iaml] *",
   "language": "python",
   "name": "conda-env-py3iaml-py"
  },
  "language_info": {
   "codemirror_mode": {
    "name": "ipython",
    "version": 3
   },
   "file_extension": ".py",
   "mimetype": "text/x-python",
   "name": "python",
   "nbconvert_exporter": "python",
   "pygments_lexer": "ipython3",
   "version": "3.9.2"
  }
 },
 "nbformat": 4,
 "nbformat_minor": 5
}
